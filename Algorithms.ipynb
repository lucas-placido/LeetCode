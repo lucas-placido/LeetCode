{
 "cells": [
  {
   "cell_type": "code",
   "execution_count": 1,
   "metadata": {},
   "outputs": [],
   "source": [
    "from typing import List"
   ]
  },
  {
   "attachments": {},
   "cell_type": "markdown",
   "metadata": {},
   "source": [
    "# Binary Search"
   ]
  },
  {
   "attachments": {},
   "cell_type": "markdown",
   "metadata": {},
   "source": [
    "## Bisect Left\n",
    "Finds the first value that it is equal to the target"
   ]
  },
  {
   "cell_type": "code",
   "execution_count": 20,
   "metadata": {},
   "outputs": [
    {
     "data": {
      "text/plain": [
       "2"
      ]
     },
     "execution_count": 20,
     "metadata": {},
     "output_type": "execute_result"
    }
   ],
   "source": [
    "def bisect_left(nums: List[int], target: int) -> int:\n",
    "    left = 0\n",
    "    right = len(nums) -1\n",
    "    while left <= right:\n",
    "        mid = (left + right) // 2            \n",
    "        if nums[mid] < target:\n",
    "            left = mid + 1            \n",
    "        else:\n",
    "            right = mid -1               \n",
    "    return left\n",
    "\n",
    "target = 5\n",
    "nums =  [1, 3, 5, 5, 6]\n",
    "#'<5'?  [T, T, F, F, F]\n",
    "\n",
    "bisect_left(nums=nums, target=target)"
   ]
  },
  {
   "attachments": {},
   "cell_type": "markdown",
   "metadata": {},
   "source": [
    "## Bisect Right\n",
    "Finds the first value that it is not equal to the target (last value equal is index -1)"
   ]
  },
  {
   "cell_type": "code",
   "execution_count": 21,
   "metadata": {},
   "outputs": [
    {
     "data": {
      "text/plain": [
       "4"
      ]
     },
     "execution_count": 21,
     "metadata": {},
     "output_type": "execute_result"
    }
   ],
   "source": [
    "def bisect_right(nums: List[int], target: int) -> int:\n",
    "    left = 0\n",
    "    right = len(nums) -1\n",
    "    while left <= right:\n",
    "        mid = (left + right) // 2            \n",
    "        if target < nums[mid]:\n",
    "            right = mid -1     \n",
    "        else:\n",
    "             left = mid + 1\n",
    "    return left\n",
    "\n",
    "\n",
    "target = 5\n",
    "nums =  [1, 3, 5, 5, 6]\n",
    "#'<=5'? [T, T, T, T, F]\n",
    "\n",
    "\n",
    "bisect_right(nums=nums, target=target)"
   ]
  },
  {
   "cell_type": "code",
   "execution_count": null,
   "metadata": {},
   "outputs": [],
   "source": []
  }
 ],
 "metadata": {
  "kernelspec": {
   "display_name": "jupyter",
   "language": "python",
   "name": "python3"
  },
  "language_info": {
   "codemirror_mode": {
    "name": "ipython",
    "version": 3
   },
   "file_extension": ".py",
   "mimetype": "text/x-python",
   "name": "python",
   "nbconvert_exporter": "python",
   "pygments_lexer": "ipython3",
   "version": "3.8.10"
  },
  "orig_nbformat": 4
 },
 "nbformat": 4,
 "nbformat_minor": 2
}
